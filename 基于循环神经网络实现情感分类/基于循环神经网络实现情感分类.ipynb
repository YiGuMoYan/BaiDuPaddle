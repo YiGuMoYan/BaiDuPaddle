{
 "cells": [
  {
   "cell_type": "markdown",
   "source": [
    "# 基于循环神经网络实现情感分类"
   ],
   "metadata": {
    "collapsed": false
   }
  },
  {
   "cell_type": "code",
   "execution_count": null,
   "outputs": [],
   "source": [
    "import numpy as np\n",
    "import paddle\n",
    "\n",
    "print(paddle.__version__)  # 查看当前版本\n",
    "\n",
    "# cpu/gpu环境选择，在 paddle.set_device() 输入对应运行设备。\n",
    "device = paddle.set_device('gpu')"
   ],
   "metadata": {
    "collapsed": false
   }
  },
  {
   "cell_type": "markdown",
   "source": [
    "## 1.数据准备"
   ],
   "metadata": {
    "collapsed": false
   }
  },
  {
   "cell_type": "code",
   "execution_count": null,
   "outputs": [],
   "source": [
    "print('loading dataset...')\n",
    "train_dataset = paddle.text.datasets.Imdb(mode='train')\n",
    "test_dataset = paddle.text.datasets.Imdb(mode='test')\n",
    "print('loading finished')"
   ],
   "metadata": {
    "collapsed": false
   }
  },
  {
   "cell_type": "code",
   "execution_count": null,
   "outputs": [],
   "source": [
    "word_dict = train_dataset.word_idx  # 获取数据集的词表\n",
    "\n",
    "# add a pad token to the dict for later padding the sequence\n",
    "word_dict['<pad>'] = len(word_dict)\n",
    "\n",
    "print(type(word_dict))\n",
    "\n",
    "for k in list(word_dict)[:5]:\n",
    "    print(\"{}:{}\".format(k.decode('ASCII'), word_dict[k]))\n",
    "\n",
    "print(\"...\")\n",
    "\n",
    "for k in list(word_dict)[-5:]:\n",
    "    print(\"{}:{}\".format(k if isinstance(k, str) else k.decode('ASCII'), word_dict[k]))\n",
    "\n",
    "print(\"totally {} words\".format(len(word_dict)))"
   ],
   "metadata": {
    "collapsed": false
   }
  },
  {
   "cell_type": "code",
   "execution_count": null,
   "outputs": [],
   "source": [
    "vocab_size = len(word_dict) + 1\n",
    "print(vocab_size)\n",
    "\n",
    "emb_size = 256\n",
    "seq_len = 200\n",
    "batch_size = 32\n",
    "epochs = 2\n",
    "pad_id = word_dict[\"<pad>\"]\n",
    "\n",
    "classes = [\"negative\", \"positive\"]\n",
    "\n",
    "\n",
    "def ids_to_str(ids):\n",
    "    # print(ids)\n",
    "    words = []\n",
    "    for k in ids:\n",
    "        w = list(word_dict)[k]\n",
    "        words.append(w if isinstance(w, str) else w.decode('ASCII'))\n",
    "    return \" \".join(words)"
   ],
   "metadata": {
    "collapsed": false
   }
  },
  {
   "cell_type": "code",
   "execution_count": null,
   "outputs": [],
   "source": [
    "sent = train_dataset.docs[0]\n",
    "label = train_dataset.labels[1]\n",
    "print('sentence list id is:', sent)\n",
    "print('sentence label id is:', label)\n",
    "print('--------------------------')\n",
    "print('sentence list is: ', ids_to_str(sent))\n",
    "print('sentence label is: ', classes[label])"
   ],
   "metadata": {
    "collapsed": false
   }
  },
  {
   "cell_type": "code",
   "execution_count": null,
   "outputs": [],
   "source": [
    "def create_padded_dataset(dataset):\n",
    "    padded_sents = []\n",
    "    labels = []\n",
    "    for batch_id, data in enumerate(dataset):\n",
    "        sent, label = data[0], data[1]\n",
    "        padded_sent = np.concatenate([sent[:seq_len], [pad_id] * (seq_len - len(sent))]).astype('int32')\n",
    "        padded_sents.append(padded_sent)\n",
    "        labels.append(label)\n",
    "        return np.array(padded_sents), np.array(labels)\n",
    "\n",
    "\n",
    "# 对train、test数据进行实例化\n",
    "train_sents, train_labels = create_padded_dataset(train_dataset)\n",
    "test_sents, test_labels = create_padded_dataset(test_dataset)\n",
    "\n",
    "# 查看数据大小及举例内容\n",
    "print(train_sents.shape)\n",
    "print(train_labels.shape)\n",
    "print(test_sents.shape)\n",
    "print(test_labels.shape)\n",
    "\n",
    "for sent in train_sents[:3]:\n",
    "    print(ids_to_str(sent))"
   ],
   "metadata": {
    "collapsed": false
   }
  },
  {
   "cell_type": "code",
   "execution_count": null,
   "outputs": [],
   "source": [
    "class IMDBDataset(paddle.io.Dataset):\n",
    "    '''\n",
    "    继承paddle.io.Dataset类进行封装数据\n",
    "    '''\n",
    "\n",
    "    def __init__(self, sents, labels):\n",
    "        self.sents = sents\n",
    "        self.labels = labels\n",
    "\n",
    "    def __getitem__(self, index):\n",
    "        data = self.sents[index]\n",
    "        label = self.labels[index]\n",
    "\n",
    "        return data, label\n",
    "\n",
    "    def __len__(self):\n",
    "        return len(self.sents)"
   ],
   "metadata": {
    "collapsed": false
   }
  },
  {
   "cell_type": "code",
   "execution_count": null,
   "outputs": [],
   "source": [
    "train_dataset = IMDBDataset(train_sents, train_labels)\n",
    "test_dataset = IMDBDataset(test_sents, test_labels)\n",
    "\n",
    "train_loader = paddle.io.DataLoader(train_dataset, return_list=True,\n",
    "                                    shuffle=True, batch_size=batch_size, drop_last=True)\n",
    "test_loader = paddle.io.DataLoader(test_dataset, return_list=True,\n",
    "                                    shuffle=True, batch_size=batch_size, drop_last=True)"
   ],
   "metadata": {
    "collapsed": false
   }
  },
  {
   "cell_type": "markdown",
   "source": [
    "## 2.模型配置"
   ],
   "metadata": {
    "collapsed": false
   }
  },
  {
   "cell_type": "code",
   "execution_count": null,
   "outputs": [],
   "source": [
    "from matplotlib import pyplot as plt\n",
    "import paddle.nn as nn\n",
    "\n",
    "class MyRNN(paddle.nn.Layer):\n",
    "    def __init__(self):\n",
    "        super(MyRNN, self).__init__()\n",
    "        self.embedding = nn.Embedding(vocab_size, 256)\n",
    "        self.rnn = nn.SimpleRNN(256, 256, num_layers=2, direction=\"bidirectional\", dropout=0.5)\n",
    "        self.linear = nn.Linear(in_features=256 * 2, out_features=2)\n",
    "        self.dropout = nn.Dropout(0.5)\n",
    "        self.BN = nn.BatchNorm(2, act=\"sigmoid\")\n",
    "\n",
    "    def forward(self, input):\n",
    "        emd = self.dropout(self.embedding(input))\n",
    "        output, hidden = self.rnn(emd)\n",
    "        hidden = paddle.concat((hidden[-2, :, :], hidden[-1, :, :]), axis=1)\n",
    "        hidden = self.dropout(hidden)\n",
    "        hidden = self.linear(hidden)\n",
    "        return self.BN(hidden)"
   ],
   "metadata": {
    "collapsed": false
   }
  },
  {
   "cell_type": "markdown",
   "source": [
    "## 3.模型训练"
   ],
   "metadata": {
    "collapsed": false
   }
  },
  {
   "cell_type": "code",
   "execution_count": null,
   "outputs": [],
   "source": [
    "# 可视化定义\n",
    "def draw_process(title,color,iters,data,label):\n",
    "    plt.title(title, fontsize=24)\n",
    "    plt.xlabel(\"iter\", fontsize=20)\n",
    "    plt.ylabel(label, fontsize=20)\n",
    "    plt.plot(iters, data,color=color,label=label)\n",
    "    plt.legend()\n",
    "    plt.grid()\n",
    "    plt.show()"
   ],
   "metadata": {
    "collapsed": false
   }
  },
  {
   "cell_type": "code",
   "execution_count": null,
   "outputs": [],
   "source": [
    "\n",
    "# 对模型进行封装\n",
    "def train(model):\n",
    "    model.train()\n",
    "    opt = paddle.optimizer.Adam(learning_rate=0.001, parameters=model.parameters())\n",
    "    steps = 0\n",
    "    Iters, total_loss, total_acc = [], [], []\n",
    "\n",
    "    for epoch in range(epochs):\n",
    "        for batch_id, data in enumerate(train_loader):\n",
    "            steps += 1\n",
    "            sent = data[0]\n",
    "            label = data[1]\n",
    "\n",
    "            logits = model(sent)\n",
    "            loss = paddle.nn.functional.cross_entropy(logits, label)\n",
    "            acc = paddle.metric.accuracy(logits, label)\n",
    "\n",
    "            if batch_id % 500 == 0:  # 500个epoch输出一次结果\n",
    "                Iters.append(steps)\n",
    "                total_loss.append(loss.numpy()[0])\n",
    "                total_acc.append(acc.numpy()[0])\n",
    "\n",
    "                print(\"epoch: {}, batch_id: {}, loss is: {}\".format(epoch, batch_id, loss.numpy()))\n",
    "\n",
    "            loss.backward()\n",
    "            opt.step()\n",
    "            opt.clear_grad()\n",
    "\n",
    "        # evaluate model after one epoch\n",
    "        model.eval()\n",
    "        accuracies = []\n",
    "        losses = []\n",
    "\n",
    "        for batch_id, data in enumerate(test_loader):\n",
    "\n",
    "            sent = data[0]\n",
    "            label = data[1]\n",
    "\n",
    "            logits = model(sent)\n",
    "            loss = paddle.nn.functional.cross_entropy(logits, label)\n",
    "            acc = paddle.metric.accuracy(logits, label)\n",
    "\n",
    "            accuracies.append(acc.numpy())\n",
    "            losses.append(loss.numpy())\n",
    "\n",
    "        avg_acc, avg_loss = np.mean(accuracies), np.mean(losses)\n",
    "\n",
    "        print(\"[validation] accuracy: {}, loss: {}\".format(avg_acc, avg_loss))\n",
    "\n",
    "        model.train()\n",
    "\n",
    "        # 保存模型\n",
    "        paddle.save(model.state_dict(),str(epoch)+\"_model_final.pdparams\")\n",
    "\n",
    "    # 可视化查看\n",
    "    draw_process(\"trainning loss\",\"red\",Iters,total_loss,\"trainning loss\")\n",
    "    draw_process(\"trainning acc\",\"green\",Iters,total_acc,\"trainning acc\")\n",
    "\n",
    "model = MyRNN()\n",
    "train(model)"
   ],
   "metadata": {
    "collapsed": false
   }
  },
  {
   "cell_type": "code",
   "execution_count": null,
   "outputs": [],
   "source": [
    "'''\n",
    "模型评估\n",
    "'''\n",
    "model_state_dict = paddle.load('1_model_final.pdparams')  # 导入模型\n",
    "model = MyRNN()\n",
    "model.set_state_dict(model_state_dict)\n",
    "model.eval()\n",
    "accuracies = []\n",
    "losses = []\n",
    "\n",
    "for batch_id, data in enumerate(test_loader):\n",
    "\n",
    "    sent = data[0]\n",
    "    label = data[1]\n",
    "\n",
    "    logits = model(sent)\n",
    "    loss = paddle.nn.functional.cross_entropy(logits, label)\n",
    "    acc = paddle.metric.accuracy(logits, label)\n",
    "\n",
    "    accuracies.append(acc.numpy())\n",
    "    losses.append(loss.numpy())\n",
    "\n",
    "avg_acc, avg_loss = np.mean(accuracies), np.mean(losses)\n",
    "print(\"[validation] accuracy: {}, loss: {}\".format(avg_acc, avg_loss))"
   ],
   "metadata": {
    "collapsed": false
   }
  }
 ],
 "metadata": {
  "kernelspec": {
   "display_name": "Python 3",
   "language": "python",
   "name": "python3"
  },
  "language_info": {
   "codemirror_mode": {
    "name": "ipython",
    "version": 2
   },
   "file_extension": ".py",
   "mimetype": "text/x-python",
   "name": "python",
   "nbconvert_exporter": "python",
   "pygments_lexer": "ipython2",
   "version": "2.7.6"
  }
 },
 "nbformat": 4,
 "nbformat_minor": 0
}
