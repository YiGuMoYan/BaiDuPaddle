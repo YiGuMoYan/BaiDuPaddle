{
 "cells": [
  {
   "cell_type": "markdown",
   "source": [
    "# 基于VGG-16实现中草药分类"
   ],
   "metadata": {
    "collapsed": false
   }
  },
  {
   "cell_type": "code",
   "execution_count": 1,
   "outputs": [],
   "source": [
    "import os\n",
    "import zipfile\n",
    "import random\n",
    "import json\n",
    "import paddle\n",
    "import sys\n",
    "import numpy as np\n",
    "from PIL import Image\n",
    "import matplotlib.pyplot as plt\n",
    "from paddle.io import Dataset"
   ],
   "metadata": {
    "collapsed": false,
    "ExecuteTime": {
     "end_time": "2023-07-20T04:53:18.467093600Z",
     "start_time": "2023-07-20T04:53:14.495946800Z"
    }
   }
  },
  {
   "cell_type": "code",
   "execution_count": 2,
   "outputs": [],
   "source": [
    "\n",
    "'''\n",
    "参数配置\n",
    "'''\n",
    "train_parameters = {\n",
    "    \"input_size\": [3, 224, 224],  #输入图片的shape\n",
    "    \"class_dim\": -1,  #分类数\n",
    "    \"src_path\": \"E:\\\\Python\\\\BaiDuPaddle\\\\基于VGG-16实现中草药分类\\\\data\\\\Chinese Medicine.zip\",  #原始数据集路径\n",
    "    \"target_path\": \"E:\\\\Python\\\\BaiDuPaddle\\\\基于VGG-16实现中草药分类\\\\data\\\\dataset\",  #要解压的路径\n",
    "    \"train_list_path\": \"E:\\\\Python\\\\BaiDuPaddle\\\\基于VGG-16实现中草药分类\\\\data\\\\train.txt\",  #train.txt路径\n",
    "    \"eval_list_path\": \"E:\\\\Python\\\\BaiDuPaddle\\\\基于VGG-16实现中草药分类\\\\data\\\\eval.txt\",  #eval.txt路径\n",
    "    \"readme_path\": \"E:\\\\Python\\\\BaiDuPaddle\\\\基于VGG-16实现中草药分类\\\\data\\\\readme.json\",  #readme.json路径\n",
    "    \"label_dict\": {},  #标签字典\n",
    "    \"num_epochs\": 1,  #训练轮数\n",
    "    \"train_batch_size\": 8,  #训练时每个批次的大小\n",
    "    \"skip_steps\": 10,\n",
    "    \"save_steps\": 30,\n",
    "    \"learning_strategy\": {  #优化函数相关的配置\n",
    "        \"lr\": 0.0001  #超参数学习率\n",
    "    },\n",
    "    \"checkpoints\": \"E:\\\\Python\\\\BaiDuPaddle\\\\基于VGG-16实现中草药分类\\\\checkpoints\"  #保存的路径\n",
    "\n",
    "}"
   ],
   "metadata": {
    "collapsed": false,
    "ExecuteTime": {
     "end_time": "2023-07-20T04:53:18.481094800Z",
     "start_time": "2023-07-20T04:53:18.469095900Z"
    }
   }
  },
  {
   "cell_type": "markdown",
   "source": [
    "## 数据准备"
   ],
   "metadata": {
    "collapsed": false
   }
  },
  {
   "cell_type": "code",
   "execution_count": 3,
   "outputs": [],
   "source": [
    "def unzip_data(src_path, target_path):\n",
    "    '''\n",
    "    解压原始数据集，将src_path路径下的zip包解压至target_path目录下\n",
    "    '''\n",
    "    if (not os.path.isdir(target_path + \"Chinese Medicine\")):\n",
    "        z = zipfile.ZipFile(src_path, 'r')\n",
    "        z.extractall(path=target_path)\n",
    "        z.close()"
   ],
   "metadata": {
    "collapsed": false,
    "ExecuteTime": {
     "end_time": "2023-07-20T04:53:18.502094Z",
     "start_time": "2023-07-20T04:53:18.483095100Z"
    }
   }
  },
  {
   "cell_type": "code",
   "execution_count": 15,
   "outputs": [],
   "source": [
    "\n",
    "def get_data_list(target_path, train_list_path, eval_list_path):\n",
    "    '''\n",
    "    生成数据列表\n",
    "    '''\n",
    "    #存放所有类别的信息\n",
    "    class_detail = []\n",
    "    #获取所有类别保存的文件夹名称\n",
    "    data_list_path = target_path + \"\\\\Chinese Medicine\\\\\"\n",
    "    class_dirs = os.listdir(data_list_path)\n",
    "    #总的图像数量\n",
    "    all_class_images = 0\n",
    "    #存放类别标签\n",
    "    class_label = 0\n",
    "    #存放类别数目\n",
    "    class_dim = 0\n",
    "    #存储要写进eval.txt和train.txt中的内容\n",
    "    trainer_list = []\n",
    "    eval_list = []\n",
    "    #读取每个类别，['river', 'lawn','church','ice','desert']\n",
    "    for class_dir in class_dirs:\n",
    "        if class_dir != \".DS_Store\":\n",
    "            class_dim += 1\n",
    "            #每个类别的信息\n",
    "            class_detail_list = {}\n",
    "            eval_sum = 0\n",
    "            trainer_sum = 0\n",
    "            #统计每个类别有多少张图片\n",
    "            class_sum = 0\n",
    "            #获取类别路径\n",
    "            path = data_list_path + class_dir\n",
    "            # 获取所有图片\n",
    "            img_paths = os.listdir(path)\n",
    "            for img_path in img_paths:  # 遍历文件夹下的每个图片\n",
    "                name_path = path + '/' + img_path  # 每张图片的路径\n",
    "                if class_sum % 8 == 0:  # 每8张图片取一个做验证数据\n",
    "                    eval_sum += 1  # test_sum为测试数据的数目\n",
    "                    eval_list.append(name_path + \"\\t%d\" % class_label + \"\\n\")\n",
    "                else:\n",
    "                    trainer_sum += 1\n",
    "                    trainer_list.append(name_path + \"\\t%d\" % class_label + \"\\n\")  #trainer_sum测试数据的数目\n",
    "                class_sum += 1  #每类图片的数目\n",
    "                all_class_images += 1  #所有类图片的数目\n",
    "\n",
    "            # 说明的json文件的class_detail数据\n",
    "            class_detail_list['class_name'] = class_dir  #类别名称\n",
    "            class_detail_list['class_label'] = class_label  #类别标签\n",
    "            class_detail_list['class_eval_images'] = eval_sum  #该类数据的测试集数目\n",
    "            class_detail_list['class_trainer_images'] = trainer_sum  #该类数据的训练集数目\n",
    "            class_detail.append(class_detail_list)\n",
    "            #初始化标签列表\n",
    "            train_parameters['label_dict'][str(class_label)] = class_dir\n",
    "            class_label += 1\n",
    "\n",
    "    #初始化分类数\n",
    "    train_parameters['class_dim'] = class_dim\n",
    "\n",
    "    #乱序\n",
    "    random.shuffle(eval_list)\n",
    "    with open(eval_list_path, 'a') as f:\n",
    "        for eval_image in eval_list:\n",
    "            f.write(eval_image)\n",
    "\n",
    "    random.shuffle(trainer_list)\n",
    "    with open(train_list_path, 'a') as f2:\n",
    "        for train_image in trainer_list:\n",
    "            f2.write(train_image)\n",
    "\n",
    "    # 说明的json文件信息\n",
    "    readjson = {}\n",
    "    readjson['all_class_name'] = data_list_path  #文件父目录\n",
    "    readjson['all_class_images'] = all_class_images\n",
    "    readjson['class_detail'] = class_detail\n",
    "    jsons = json.dumps(readjson, sort_keys=True, indent=4, separators=(',', ': '))\n",
    "    with open(train_parameters['readme_path'], 'w') as f:\n",
    "        f.write(jsons)\n",
    "    print('生成数据列表完成！')"
   ],
   "metadata": {
    "collapsed": false,
    "ExecuteTime": {
     "end_time": "2023-07-20T04:56:19.026602Z",
     "start_time": "2023-07-20T04:56:18.985603Z"
    }
   }
  },
  {
   "cell_type": "code",
   "execution_count": 16,
   "outputs": [
    {
     "name": "stdout",
     "output_type": "stream",
     "text": [
      "生成数据列表完成！\n"
     ]
    }
   ],
   "source": [
    "'''\n",
    "参数初始化\n",
    "'''\n",
    "src_path = train_parameters['src_path']\n",
    "target_path = train_parameters['target_path']\n",
    "train_list_path = train_parameters['train_list_path']\n",
    "eval_list_path = train_parameters['eval_list_path']\n",
    "\n",
    "'''\n",
    "解压原始数据到指定路径\n",
    "'''\n",
    "unzip_data(src_path, target_path)\n",
    "\n",
    "'''\n",
    "划分训练集与验证集，乱序，生成数据列表\n",
    "'''\n",
    "#每次生成数据列表前，首先清空train.txt和eval.txt\n",
    "with open(train_list_path, 'w') as f:\n",
    "    f.seek(0)\n",
    "    f.truncate()\n",
    "with open(eval_list_path, 'w') as f:\n",
    "    f.seek(0)\n",
    "    f.truncate()\n",
    "\n",
    "#生成数据列表\n",
    "get_data_list(target_path, train_list_path, eval_list_path)"
   ],
   "metadata": {
    "collapsed": false,
    "ExecuteTime": {
     "end_time": "2023-07-20T04:56:19.917615800Z",
     "start_time": "2023-07-20T04:56:19.364615400Z"
    }
   }
  },
  {
   "cell_type": "code",
   "execution_count": 17,
   "outputs": [],
   "source": [
    "class dataset(Dataset):\n",
    "    def __init__(self, data_path, mode='train'):\n",
    "        \"\"\"\n",
    "        数据读取器\n",
    "        :param data_path: 数据集所在路径\n",
    "        :param mode: train or eval\n",
    "        \"\"\"\n",
    "        super().__init__()\n",
    "        self.data_path = data_path\n",
    "        self.img_paths = []\n",
    "        self.labels = []\n",
    "\n",
    "        if mode == 'train':\n",
    "            with open(os.path.join(self.data_path, \"train.txt\"), \"r\", encoding=\"utf-8\") as f:\n",
    "                self.info = f.readlines()\n",
    "            for img_info in self.info:\n",
    "                img_path, label = img_info.strip().split('\\t')\n",
    "                self.img_paths.append(img_path)\n",
    "                self.labels.append(int(label))\n",
    "\n",
    "        else:\n",
    "            with open(os.path.join(self.data_path, \"eval.txt\"), \"r\", encoding=\"utf-8\") as f:\n",
    "                self.info = f.readlines()\n",
    "            for img_info in self.info:\n",
    "                img_path, label = img_info.strip().split('\\t')\n",
    "                self.img_paths.append(img_path)\n",
    "                self.labels.append(int(label))\n",
    "\n",
    "    def __getitem__(self, index):\n",
    "        \"\"\"\n",
    "        获取一组数据\n",
    "        :param index: 文件索引号\n",
    "        :return:\n",
    "        \"\"\"\n",
    "        # 第一步打开图像文件并获取label值\n",
    "        img_path = self.img_paths[index]\n",
    "        img = Image.open(img_path)\n",
    "        if img.mode != 'RGB':\n",
    "            img = img.convert('RGB')\n",
    "        img = img.resize((224, 224), Image.BILINEAR)\n",
    "        img = np.array(img).astype('float32')\n",
    "        img = img.transpose((2, 0, 1)) / 255\n",
    "        label = self.labels[index]\n",
    "        label = np.array([label], dtype=\"int64\")\n",
    "        return img, label\n",
    "\n",
    "    def print_sample(self, index: int = 0):\n",
    "        print(\"文件名\", self.img_paths[index], \"\\t标签值\", self.labels[index])\n",
    "\n",
    "    def __len__(self):\n",
    "        return len(self.img_paths)"
   ],
   "metadata": {
    "collapsed": false,
    "ExecuteTime": {
     "end_time": "2023-07-20T04:57:54.229582700Z",
     "start_time": "2023-07-20T04:57:54.207581Z"
    }
   }
  },
  {
   "cell_type": "code",
   "execution_count": 20,
   "outputs": [],
   "source": [
    "#训练数据加载\n",
    "train_dataset = dataset('E:\\\\Python\\\\BaiDuPaddle\\\\基于VGG-16实现中草药分类\\\\data', mode='train')\n",
    "train_loader = paddle.io.DataLoader(train_dataset, batch_size=16, shuffle=True)\n",
    "#测试数据加载\n",
    "eval_dataset = dataset('E:\\\\Python\\\\BaiDuPaddle\\\\基于VGG-16实现中草药分类\\\\data', mode='eval')\n",
    "eval_loader = paddle.io.DataLoader(eval_dataset, batch_size=8, shuffle=False)"
   ],
   "metadata": {
    "collapsed": false,
    "ExecuteTime": {
     "end_time": "2023-07-20T04:58:28.338131600Z",
     "start_time": "2023-07-20T04:58:28.313131600Z"
    }
   }
  },
  {
   "cell_type": "markdown",
   "source": [
    "## 2.模型搭建"
   ],
   "metadata": {
    "collapsed": false
   }
  },
  {
   "cell_type": "code",
   "execution_count": 25,
   "outputs": [],
   "source": [
    "class ConvPool(paddle.nn.Layer):\n",
    "    def __init__(self, num_channels, num_filters, filter_size, pool_size, pool_stride, groups, conv_stride=1,\n",
    "                 conv_padding=1):\n",
    "        super(ConvPool, self).__init__()\n",
    "\n",
    "        for i in range(groups):\n",
    "            self.add_sublayer(\n",
    "                \"conv_%d\" % i,\n",
    "                paddle.nn.Conv2D(in_channels=num_channels, out_channels=num_filters, kernel_size=filter_size,\n",
    "                                 stride=conv_stride, padding=conv_padding)\n",
    "            )\n",
    "            self.add_sublayer(\n",
    "                \"relu_%d\" % i,\n",
    "                paddle.nn.ReLU()\n",
    "            )\n",
    "            num_channels = num_filters\n",
    "        self.add_sublayer(\n",
    "            \"max_pool\",\n",
    "            paddle.nn.MaxPool2D(\n",
    "                kernel_size=pool_size,\n",
    "                stride=pool_stride\n",
    "\n",
    "            )\n",
    "        )\n",
    "\n",
    "    def forward(self, inputs):\n",
    "        x = input\n",
    "        for prefix, sub_layer in self.named_children():\n",
    "            x = sub_layer(x)\n",
    "        return x"
   ],
   "metadata": {
    "collapsed": false,
    "ExecuteTime": {
     "end_time": "2023-07-20T05:23:27.620844500Z",
     "start_time": "2023-07-20T05:23:27.601828600Z"
    }
   }
  },
  {
   "cell_type": "code",
   "execution_count": 26,
   "outputs": [],
   "source": [
    "class VGGNet(paddle.nn.Layer):\n",
    "    def __init__(self):\n",
    "        super(VGGNet, self).__init__()\n",
    "        self.conv_pool1 = ConvPool(3, 64, 3, 2, 2, 2)\n",
    "        self.conv_pool2 = ConvPool(64, 128, 3, 2, 2, 2)\n",
    "        self.conv_pool3 = ConvPool(128, 256, 3, 2, 2, 3)\n",
    "        self.conv_pool4 = ConvPool(256, 512, 3, 2, 2, 3)\n",
    "        self.conv_pool5 = ConvPool(256, 512, 3, 2, 2, 3)\n",
    "        self.fc1 = paddle.nn.Linear(7 * 7 * 512, 4096)\n",
    "        self.fc2 = paddle.nn.Linear(4096, 4096)\n",
    "        self.fc3 = paddle.nn.Linear(4096, train_parameters['class_dim'])\n",
    "\n",
    "    def forward(self, input, label=None):\n",
    "        x = self.convpool01(input)\n",
    "        x = self.convpool02(x)\n",
    "        x = self.convpool03(x)\n",
    "        x = self.convpool04(x)\n",
    "        x = self.convpool05(x)\n",
    "\n",
    "        x = paddle.reshape(x, shape=[-1, 512 * 7 * 7])\n",
    "        x = self.fc01(x)\n",
    "        x = self.fc02(x)\n",
    "        x = self.fc03(x)\n",
    "\n",
    "        if label is not None:\n",
    "            acc = paddle.metric.accuracy(input=x, label=label)\n",
    "            return x, acc\n",
    "        else:\n",
    "            return x"
   ],
   "metadata": {
    "collapsed": false,
    "ExecuteTime": {
     "end_time": "2023-07-20T05:23:28.244164Z",
     "start_time": "2023-07-20T05:23:28.224164400Z"
    }
   }
  },
  {
   "cell_type": "code",
   "execution_count": 27,
   "outputs": [],
   "source": [
    "def draw_process(title, color, iters, data, label):\n",
    "    plt.title(title, fontsize=24)\n",
    "    plt.xlabel(\"iter\", fontsize=20)\n",
    "    plt.ylabel(label, fontsize=20)\n",
    "    plt.plot(iters, data, color=color, label=label)\n",
    "    plt.legend()\n",
    "    plt.grid()\n",
    "    plt.show()"
   ],
   "metadata": {
    "collapsed": false,
    "ExecuteTime": {
     "end_time": "2023-07-20T05:23:28.620634200Z",
     "start_time": "2023-07-20T05:23:28.604636800Z"
    }
   }
  },
  {
   "cell_type": "code",
   "execution_count": null,
   "outputs": [],
   "source": [
    "model = VGGNet()\n",
    "model.train()\n",
    "cross_entropy = paddle.nn.CrossEntropyLoss()\n",
    "optimizer = paddle.optimizer.Adam(learning_rate=train_parameters['learning_strategy']['lr'],\n",
    "                                  parameters=model.parameters())\n",
    "\n",
    "steps = 0\n",
    "Iters, total_loss, total_acc = [], [], []\n",
    "\n",
    "for epo in range(train_parameters['num_epochs']):\n",
    "    for _, data in enumerate(train_loader()):\n",
    "        steps += 1\n",
    "        x_data = data[0]\n",
    "        y_data = data[1]\n",
    "        predicts, acc = model(x_data, y_data)\n",
    "        loss = cross_entropy(predicts, y_data)\n",
    "        loss.backward()\n",
    "        optimizer.step()\n",
    "        optimizer.clear_grad()\n",
    "        if steps % train_parameters[\"skip_steps\"] == 0:\n",
    "            Iters.append(steps)\n",
    "            total_loss.append(loss.numpy()[0])\n",
    "            total_acc.append(acc.numpy()[0])\n",
    "            #打印中间过程\n",
    "            print('epo: {}, step: {}, loss is: {}, acc is: {}' \\\n",
    "                  .format(epo, steps, loss.numpy(), acc.numpy()))\n",
    "        #保存模型参数\n",
    "        if steps % train_parameters[\"save_steps\"] == 0:\n",
    "            save_path = train_parameters[\"checkpoints\"] + \"/\" + \"save_dir_\" + str(steps) + '.pdparams'\n",
    "            print('save model to: ' + save_path)\n",
    "            paddle.save(model.state_dict(), save_path)\n",
    "paddle.save(model.state_dict(), train_parameters[\"checkpoints\"] + \"/\" + \"save_dir_final.pdparams\")\n",
    "draw_process(\"trainning loss\", \"red\", Iters, total_loss, \"trainning loss\")\n",
    "draw_process(\"trainning acc\", \"green\", Iters, total_acc, \"trainning acc\")"
   ],
   "metadata": {
    "collapsed": false
   }
  }
 ],
 "metadata": {
  "kernelspec": {
   "display_name": "Python 3",
   "language": "python",
   "name": "python3"
  },
  "language_info": {
   "codemirror_mode": {
    "name": "ipython",
    "version": 2
   },
   "file_extension": ".py",
   "mimetype": "text/x-python",
   "name": "python",
   "nbconvert_exporter": "python",
   "pygments_lexer": "ipython2",
   "version": "2.7.6"
  }
 },
 "nbformat": 4,
 "nbformat_minor": 0
}
