{
 "cells": [
  {
   "cell_type": "markdown",
   "source": [
    "# 基于CBOW实现Word2Vec"
   ],
   "metadata": {
    "collapsed": false
   }
  },
  {
   "cell_type": "code",
   "execution_count": 2,
   "outputs": [],
   "source": [
    "import io\n",
    "import os\n",
    "import sys\n",
    "import requests\n",
    "from collections import OrderedDict\n",
    "import math\n",
    "import random\n",
    "import numpy as np\n",
    "import paddle"
   ],
   "metadata": {
    "collapsed": false,
    "ExecuteTime": {
     "end_time": "2023-07-22T08:21:59.675979Z",
     "start_time": "2023-07-22T08:21:57.166849600Z"
    }
   }
  },
  {
   "cell_type": "markdown",
   "source": [
    "## 1.数据处理"
   ],
   "metadata": {
    "collapsed": false
   }
  },
  {
   "cell_type": "code",
   "execution_count": 4,
   "outputs": [],
   "source": [
    "# 下载语料用于训练 word2vec\n",
    "def download():\n",
    "    corpus_url = \"https://dataset.bj.bcebos.com/word2vec/text8.txt\"\n",
    "    web_request = requests.get(corpus_url)\n",
    "    corpus = web_request.content\n",
    "    with open(\"./text8.txt\", \"wb\") as f:\n",
    "        f.write(corpus)\n",
    "\n",
    "\n",
    "download()"
   ],
   "metadata": {
    "collapsed": false,
    "ExecuteTime": {
     "end_time": "2023-07-22T08:26:00.748101200Z",
     "start_time": "2023-07-22T08:25:55.547063200Z"
    }
   }
  },
  {
   "cell_type": "code",
   "execution_count": 7,
   "outputs": [
    {
     "name": "stdout",
     "output_type": "stream",
     "text": [
      " anarchism originated as a term of abuse first used against early working class radicals including the diggers of the english revolution and the sans culottes of the french revolution whilst the term is still used in a pejorative way to describe any act that used violent means to destroy the organization of society it has also been taken up as a positive label by self defined anarchists the word anarchism is derived from the greek without archons ruler chief king anarchism as a political philoso\n"
     ]
    }
   ],
   "source": [
    "# 读取 text8 数据\n",
    "def load_text8():\n",
    "    with open(\"./text8.txt\", \"r\") as f:\n",
    "        corpus = f.read().strip(\"\\n\")\n",
    "    f.close()\n",
    "\n",
    "    return corpus\n",
    "\n",
    "\n",
    "corpus = load_text8()\n",
    "\n",
    "# 打印前 500 字符\n",
    "print(corpus[:500])"
   ],
   "metadata": {
    "collapsed": false,
    "ExecuteTime": {
     "end_time": "2023-07-22T08:31:22.091505Z",
     "start_time": "2023-07-22T08:31:21.716727400Z"
    }
   }
  },
  {
   "cell_type": "code",
   "execution_count": 8,
   "outputs": [
    {
     "name": "stdout",
     "output_type": "stream",
     "text": [
      "['anarchism', 'originated', 'as', 'a', 'term', 'of', 'abuse', 'first', 'used', 'against', 'early', 'working', 'class', 'radicals', 'including', 'the', 'diggers', 'of', 'the', 'english', 'revolution', 'and', 'the', 'sans', 'culottes', 'of', 'the', 'french', 'revolution', 'whilst', 'the', 'term', 'is', 'still', 'used', 'in', 'a', 'pejorative', 'way', 'to', 'describe', 'any', 'act', 'that', 'used', 'violent', 'means', 'to', 'destroy', 'the']\n"
     ]
    }
   ],
   "source": [
    "# 对语料进行预处理操作\n",
    "def data_preprocess(corpus):\n",
    "    # 所有英文转为小写，归一化处理\n",
    "    corpus = corpus.strip().lower()\n",
    "    corpus = corpus.split(\" \")\n",
    "\n",
    "    return corpus\n",
    "\n",
    "\n",
    "corpus = data_preprocess(corpus)\n",
    "print(corpus[:50])"
   ],
   "metadata": {
    "collapsed": false,
    "ExecuteTime": {
     "end_time": "2023-07-22T08:31:25.881922600Z",
     "start_time": "2023-07-22T08:31:24.650921500Z"
    }
   }
  },
  {
   "cell_type": "code",
   "execution_count": 9,
   "outputs": [
    {
     "name": "stdout",
     "output_type": "stream",
     "text": [
      "there are totoally 253854 different words in the corpus\n",
      "word the, its id 0, its word freq 1061396\n",
      "word of, its id 1, its word freq 593677\n",
      "word and, its id 2, its word freq 416629\n",
      "word one, its id 3, its word freq 411764\n",
      "word in, its id 4, its word freq 372201\n",
      "word a, its id 5, its word freq 325873\n",
      "word to, its id 6, its word freq 316376\n",
      "word zero, its id 7, its word freq 264975\n",
      "word nine, its id 8, its word freq 250430\n",
      "word two, its id 9, its word freq 192644\n",
      "word is, its id 10, its word freq 183153\n",
      "word as, its id 11, its word freq 131815\n",
      "word eight, its id 12, its word freq 125285\n",
      "word for, its id 13, its word freq 118445\n",
      "word s, its id 14, its word freq 116710\n",
      "word five, its id 15, its word freq 115789\n",
      "word three, its id 16, its word freq 114775\n",
      "word was, its id 17, its word freq 112807\n",
      "word by, its id 18, its word freq 111831\n",
      "word that, its id 19, its word freq 109510\n",
      "word four, its id 20, its word freq 108182\n",
      "word six, its id 21, its word freq 102145\n",
      "word seven, its id 22, its word freq 99683\n",
      "word with, its id 23, its word freq 95603\n",
      "word on, its id 24, its word freq 91250\n",
      "word are, its id 25, its word freq 76527\n",
      "word it, its id 26, its word freq 73334\n",
      "word from, its id 27, its word freq 72871\n",
      "word or, its id 28, its word freq 68945\n",
      "word his, its id 29, its word freq 62603\n",
      "word an, its id 30, its word freq 61925\n",
      "word be, its id 31, its word freq 61281\n",
      "word this, its id 32, its word freq 58832\n",
      "word which, its id 33, its word freq 54788\n",
      "word at, its id 34, its word freq 54576\n",
      "word he, its id 35, its word freq 53573\n",
      "word also, its id 36, its word freq 44358\n",
      "word not, its id 37, its word freq 44033\n",
      "word have, its id 38, its word freq 39712\n",
      "word were, its id 39, its word freq 39086\n",
      "word has, its id 40, its word freq 37866\n",
      "word but, its id 41, its word freq 35358\n",
      "word other, its id 42, its word freq 32433\n",
      "word their, its id 43, its word freq 31523\n",
      "word its, its id 44, its word freq 29567\n",
      "word first, its id 45, its word freq 28810\n",
      "word they, its id 46, its word freq 28553\n",
      "word some, its id 47, its word freq 28161\n",
      "word had, its id 48, its word freq 28100\n",
      "word all, its id 49, its word freq 26229\n"
     ]
    }
   ],
   "source": [
    "# 构建词典\n",
    "def build_dict(corpus):\n",
    "    # 统计每个不同词频率\n",
    "    word_freq_dict = dict()\n",
    "    for word in corpus:\n",
    "        if word not in word_freq_dict:\n",
    "            word_freq_dict[word] = 0\n",
    "        word_freq_dict[word] += 1\n",
    "\n",
    "    # 将这个词典中的词，按照出现次数排序，出现次数越高，排序越靠前\n",
    "    # 一般来说，出现频率高的高频词往往是：I，the，you这种代词，而出现频率低的词，往往是一些名词，如：nlp\n",
    "    word_freq_dict = sorted(word_freq_dict.items(), key=lambda x: x[1], reverse=True)\n",
    "\n",
    "    # 构造3个不同的词典，分别存储，\n",
    "    # 每个词到id的映射关系：word2id_dict\n",
    "    # 每个id出现的频率：word2id_freq\n",
    "    # 每个id到词典映射关系：id2word_dict\n",
    "    word2id_dict = dict()\n",
    "    word2id_freq = dict()\n",
    "    id2word_dict = dict()\n",
    "\n",
    "    # 按照频率，从高到低，开始遍历每个单词，并为这个单词构造一个独一无二的id\n",
    "    for word, freq in word_freq_dict:\n",
    "        curr_id = len(word2id_dict)\n",
    "        word2id_dict[word] = curr_id\n",
    "        word2id_freq[word2id_dict[word]] = freq\n",
    "        id2word_dict[curr_id] = word\n",
    "\n",
    "    return word2id_freq, word2id_dict, id2word_dict\n",
    "\n",
    "\n",
    "word2id_freq, word2id_dict, id2word_dict = build_dict(corpus)\n",
    "vocab_size = len(word2id_freq)\n",
    "print(\"there are totoally %d different words in the corpus\" % vocab_size)\n",
    "for _, (word, word_id) in zip(range(50), word2id_dict.items()):\n",
    "    print(\"word %s, its id %d, its word freq %d\" % (word, word_id, word2id_freq[word_id]))"
   ],
   "metadata": {
    "collapsed": false,
    "ExecuteTime": {
     "end_time": "2023-07-22T08:42:17.781556800Z",
     "start_time": "2023-07-22T08:42:15.151558100Z"
    }
   }
  },
  {
   "cell_type": "markdown",
   "source": [
    "根据 word2id 词典，把每个词转换成对应 id 序列"
   ],
   "metadata": {
    "collapsed": false
   }
  },
  {
   "cell_type": "code",
   "execution_count": 10,
   "outputs": [
    {
     "name": "stdout",
     "output_type": "stream",
     "text": [
      "[5233, 3080, 11, 5, 194, 1, 3133, 45, 58, 155, 127, 741, 476, 10571, 133, 0, 27349, 1, 0, 102, 854, 2, 0, 15067, 58112, 1, 0, 150, 854, 3580, 0, 194, 10, 190, 58, 4, 5, 10712, 214, 6, 1324, 104, 454, 19, 58, 2731, 362, 6, 3672, 0]\n"
     ]
    }
   ],
   "source": [
    "# 把语料转化成 id\n",
    "def convert_corpus_to_id(corpus, word2id_dir):\n",
    "    corpus = [word2id_dir[word] for word in corpus]\n",
    "    return corpus\n",
    "\n",
    "\n",
    "corpus = convert_corpus_to_id(corpus, word2id_dict)\n",
    "print(corpus[:50])"
   ],
   "metadata": {
    "collapsed": false,
    "ExecuteTime": {
     "end_time": "2023-07-22T08:42:57.351585900Z",
     "start_time": "2023-07-22T08:42:55.734675500Z"
    }
   }
  },
  {
   "cell_type": "code",
   "execution_count": 11,
   "outputs": [
    {
     "name": "stdout",
     "output_type": "stream",
     "text": [
      "[5233, 3080, 11, 5, 194, 1, 3133, 45, 58, 155, 127, 741, 476, 10571, 133, 0, 27349, 1, 0, 102, 854, 2, 0, 15067, 58112, 1, 0, 150, 854, 3580, 0, 194, 10, 190, 58, 4, 5, 10712, 214, 6, 1324, 104, 454, 19, 58, 2731, 362, 6, 3672, 0]\n"
     ]
    }
   ],
   "source": [
    "# 二次采样法处理样本\n",
    "def subsampling(corpus, word2id_freq):\n",
    "    def discard(word_id):\n",
    "        return random.uniform(0, 1) < 1 - math.sqrt(1e4 / word2id_freq[word_id] * len(corpus))\n",
    "\n",
    "    corpus = [word for word in corpus if not discard(word)]\n",
    "    return corpus\n",
    "\n",
    "\n",
    "corpus = subsampling(corpus, word2id_freq)\n",
    "print(corpus[:50])"
   ],
   "metadata": {
    "collapsed": false,
    "ExecuteTime": {
     "end_time": "2023-07-22T08:47:09.584232700Z",
     "start_time": "2023-07-22T08:47:01.593126400Z"
    }
   }
  },
  {
   "cell_type": "code",
   "execution_count": 12,
   "outputs": [
    {
     "name": "stdout",
     "output_type": "stream",
     "text": [
      "300000\n",
      "600000\n",
      "700000\n",
      "800000\n",
      "1300000\n",
      "1400000\n",
      "1800000\n",
      "1900000\n",
      "2000000\n",
      "2200000\n",
      "2300000\n",
      "2500000\n",
      "2700000\n",
      "2800000\n",
      "3300000\n",
      "3500000\n",
      "3700000\n",
      "3800000\n",
      "4100000\n",
      "4200000\n",
      "4300000\n",
      "4600000\n",
      "5000000\n",
      "5100000\n",
      "5200000\n",
      "5300000\n",
      "5500000\n",
      "5700000\n",
      "5800000\n",
      "6000000\n",
      "6100000\n",
      "6200000\n",
      "6300000\n",
      "6700000\n",
      "6800000\n",
      "7000000\n",
      "7300000\n",
      "8100000\n",
      "8300000\n",
      "8500000\n",
      "8700000\n",
      "8800000\n",
      "8900000\n",
      "9100000\n",
      "9500000\n",
      "9800000\n",
      "10000000\n",
      "10100000\n",
      "10200000\n",
      "10400000\n",
      "10500000\n",
      "10900000\n",
      "11500000\n",
      "11800000\n",
      "12100000\n",
      "12200000\n",
      "12300000\n",
      "12500000\n",
      "12600000\n",
      "13000000\n",
      "13200000\n",
      "13300000\n",
      "13500000\n",
      "13600000\n",
      "13800000\n",
      "13900000\n",
      "14300000\n",
      "14400000\n",
      "14800000\n",
      "15000000\n",
      "15100000\n",
      "15200000\n",
      "15300000\n",
      "15500000\n",
      "15600000\n",
      "16000000\n",
      "16100000\n",
      "16200000\n",
      "16300000\n",
      "16500000\n",
      "16700000\n",
      "16900000\n",
      "center_word originated, target anarchism, label 1\n",
      "center_word originated, target barites, label 0\n",
      "center_word originated, target attillement, label 0\n",
      "center_word originated, target negotiative, label 0\n",
      "center_word originated, target excavator, label 0\n",
      "center_word anarchism, target originated, label 1\n",
      "center_word anarchism, target hbara, label 0\n",
      "center_word anarchism, target blivion, label 0\n",
      "center_word anarchism, target qutb, label 0\n",
      "center_word anarchism, target mitigative, label 0\n",
      "center_word as, target originated, label 1\n",
      "center_word as, target enlightened, label 0\n",
      "center_word as, target screwdriver, label 0\n",
      "center_word as, target juo, label 0\n",
      "center_word as, target megleno, label 0\n",
      "center_word a, target originated, label 1\n",
      "center_word a, target kalavasos, label 0\n",
      "center_word a, target telecential, label 0\n",
      "center_word a, target cristologia, label 0\n",
      "center_word a, target aidc, label 0\n",
      "center_word anarchism, target a, label 1\n",
      "center_word anarchism, target decreta, label 0\n",
      "center_word anarchism, target paranasal, label 0\n",
      "center_word anarchism, target ukca, label 0\n",
      "center_word anarchism, target arus, label 0\n",
      "center_word originated, target a, label 1\n",
      "center_word originated, target replicanet, label 0\n",
      "center_word originated, target innokentii, label 0\n",
      "center_word originated, target jalil, label 0\n",
      "center_word originated, target terrian, label 0\n",
      "center_word as, target a, label 1\n",
      "center_word as, target valediction, label 0\n",
      "center_word as, target avellanidens, label 0\n",
      "center_word as, target duope, label 0\n",
      "center_word as, target scorupco, label 0\n",
      "center_word term, target a, label 1\n",
      "center_word term, target scarabaeiform, label 0\n",
      "center_word term, target mandelion, label 0\n",
      "center_word term, target nile, label 0\n",
      "center_word term, target breviary, label 0\n",
      "center_word of, target a, label 1\n",
      "center_word of, target waveguides, label 0\n",
      "center_word of, target ferocious, label 0\n",
      "center_word of, target reborrowings, label 0\n",
      "center_word of, target gartner, label 0\n",
      "center_word abuse, target a, label 1\n",
      "center_word abuse, target biotechnologically, label 0\n",
      "center_word abuse, target smarts, label 0\n",
      "center_word abuse, target ateur, label 0\n",
      "center_word abuse, target schematically, label 0\n"
     ]
    }
   ],
   "source": [
    "# 构造数据，准备模型训练\n",
    "# max_window_size 代表了最大的window_size的大小，程序会根据max_window_size从左到右扫描整个语料\n",
    "# negative_sample_num 代表了对于每个正样本，我们需要随机采样多少负样本用于训练，\n",
    "# 一般来说，negative_sample_num的值越大，训练效果越稳定，但是训练速度越慢。\n",
    "def build_data(corpus, word2id_dict, word2id_freq, max_window_size=3, negative_sample_num=4):\n",
    "    # 使用一个 list 存储处理好的数据\n",
    "    dataset = []\n",
    "    center_word_idx = 0\n",
    "\n",
    "    # 从左到右，枚举每个中心点\n",
    "    while center_word_idx < len(corpus):\n",
    "        # 以 max_window_size 为上限，随机采样一个 window_size\n",
    "        window_size = random.randint(1, max_window_size)\n",
    "        # 当前中心词就是 center_word_idx 指向的词，可用作正样本\n",
    "        positive_word = corpus[center_word_idx]\n",
    "\n",
    "        # 以当前中心词为中心，左右两侧在 window_size 内的词就是上下文\n",
    "        context_word_range = (\n",
    "            max(0, center_word_idx - window_size), min(len(corpus) - 1, center_word_idx + window_size))\n",
    "        # 上下文词\n",
    "        context_word_candidates = [corpus[idx] for idx in range(context_word_range[0], context_word_range[1] + 1) if\n",
    "                                   idx != center_word_idx]\n",
    "\n",
    "        # 对于正样本来说，随机采样 negative_sample_num 个负样本用于训练\n",
    "        for context_word in context_word_candidates:\n",
    "            # 首先把 (上下文, 正样本, label=1) 放在三元组数组 dataset 中\n",
    "            # label = 1 表示正样本\n",
    "            dataset.append((context_word, positive_word, 1))\n",
    "\n",
    "            # 开始负采样\n",
    "            i = 0\n",
    "            while i < negative_sample_num:\n",
    "                negative_word_candidate = random.randint(0, vocab_size - 1)\n",
    "\n",
    "                if negative_word_candidate is not positive_word:\n",
    "                    # 首先把 (上下文, 负样本, label=1) 放在三元组数组 dataset 中\n",
    "                    # label = 0 表示负样本\n",
    "                    dataset.append((context_word, negative_word_candidate, 0))\n",
    "                    i += 1\n",
    "\n",
    "        center_word_idx = min(len(corpus) - 1, center_word_idx + window_size)\n",
    "        if center_word_idx == (len(corpus) - 1):\n",
    "            center_word_idx += 1\n",
    "        if center_word_idx % 100000 == 0:\n",
    "            print(center_word_idx)\n",
    "\n",
    "    return dataset\n",
    "\n",
    "\n",
    "dataset = build_data(corpus, word2id_dict, word2id_freq)\n",
    "for _, (context_word, target_word, label) in zip(range(50), dataset):\n",
    "    print(\"center_word %s, target %s, label %d\" % (id2word_dict[context_word],\n",
    "                                                   id2word_dict[target_word], label))"
   ],
   "metadata": {
    "collapsed": false,
    "ExecuteTime": {
     "end_time": "2023-07-22T09:13:34.321067700Z",
     "start_time": "2023-07-22T09:10:29.639173100Z"
    }
   }
  },
  {
   "cell_type": "code",
   "execution_count": 13,
   "outputs": [],
   "source": [
    "#构造mini-batch，准备对模型进行训练\n",
    "#我们将不同类型的数据放到不同的tensor里，便于神经网络进行处理\n",
    "#并通过numpy的array函数，构造出不同的tensor来，并把这些tensor送入神经网络中进行训练\n",
    "def build_batch(dataset, batch_size, epoch_num):\n",
    "    #center_word_batch缓存batch_size个中心词\n",
    "    center_word_batch = []\n",
    "    #target_word_batch缓存batch_size个目标词（可以是正样本或者负样本）\n",
    "    target_word_batch = []\n",
    "    #label_batch缓存了batch_size个0或1的标签，用于模型训练\n",
    "    label_batch = []\n",
    "\n",
    "    for epoch in range(epoch_num):\n",
    "        #每次开启一个新epoch之前，都对数据进行一次随机打乱，提高训练效果\n",
    "        random.shuffle(dataset)\n",
    "\n",
    "        for center_word, target_word, label in dataset:\n",
    "            #遍历dataset中的每个样本，并将这些数据送到不同的tensor里\n",
    "            center_word_batch.append([center_word])\n",
    "            target_word_batch.append([target_word])\n",
    "            label_batch.append(label)\n",
    "\n",
    "            #当样本积攒到一个batch_size后，我们把数据都返回回来\n",
    "            #在这里我们使用numpy的array函数把list封装成tensor\n",
    "            #并使用python的迭代器机制，将数据yield出来\n",
    "            #使用迭代器的好处是可以节省内存\n",
    "            if len(center_word_batch) == batch_size:\n",
    "                yield np.array(center_word_batch).astype(\"int64\"), \\\n",
    "                    np.array(target_word_batch).astype(\"int64\"), \\\n",
    "                    np.array(label_batch).astype(\"float32\")\n",
    "                center_word_batch = []\n",
    "                target_word_batch = []\n",
    "                label_batch = []\n",
    "\n",
    "    if len(center_word_batch) > 0:\n",
    "        yield np.array(center_word_batch).astype(\"int64\"), \\\n",
    "            np.array(target_word_batch).astype(\"int64\"), \\\n",
    "            np.array(label_batch).astype(\"float32\")"
   ],
   "metadata": {
    "collapsed": false,
    "ExecuteTime": {
     "end_time": "2023-07-22T09:15:23.284082600Z",
     "start_time": "2023-07-22T09:15:23.223083200Z"
    }
   }
  },
  {
   "cell_type": "markdown",
   "source": [
    "## 网络定义"
   ],
   "metadata": {
    "collapsed": false
   }
  },
  {
   "cell_type": "code",
   "execution_count": null,
   "outputs": [],
   "source": [
    "\n",
    "#定义cbow训练网络结构\n",
    "#这里我们使用的是paddlepaddle的2.0.0版本\n",
    "#一般来说，在使用nn训练的时候，我们需要通过一个类来定义网络结构，这个类继承了paddle.nn.Layer\n",
    "class CBOW(paddle.nn.Layer):\n",
    "    def __init__(self, vocab_size, embedding_size, init_scale=0.1):\n",
    "        #vocab_size 定义了这个CBOW这个模型的词表大小\n",
    "        #embedding_size 定义了词向量的维度是多少\n",
    "        #init_scale 定义了词向量初始化的范围，一般来说，比较小的初始化范围有助于模型训练\n",
    "        super(CBOW, self).__init__()\n",
    "        self.vocab_size = vocab_size\n",
    "        self.embedding_size = embedding_size\n",
    "\n",
    "        #使用 paddle.nn 提供的 Embedding 函数，构造一个词向量参数\n",
    "        #这个参数的大小为：self.vocab_size, self.embedding_size\n",
    "        #这个参数的名称为：embedding_para\n",
    "        #这个参数的初始化方式为在[-init_scale, init_scale]区间进行均匀采样\n",
    "        self.embedding = paddle.nn.Embedding(\n",
    "            self.vocab_size,\n",
    "            self.embedding_size,\n",
    "            weight_attr=paddle.ParamAttr(\n",
    "                name='embedding_para',\n",
    "                initializer=paddle.nn.initializer.Uniform(\n",
    "                    low=-0.5 / embedding_size, high=0.5 / embedding_size)))\n",
    "\n",
    "        #使用paddle.nn提供的Embedding函数，构造另外一个词向量参数\n",
    "        #这个参数的大小为：self.vocab_size, self.embedding_size\n",
    "        #这个参数的名称为：embedding_para_out\n",
    "        #这个参数的初始化方式为在[-init_scale, init_scale]区间进行均匀采样\n",
    "        #跟上面不同的是，这个参数的名称跟上面不同，因此，\n",
    "        #embedding_para_out和embedding_para虽然有相同的shape，但是权重不共享\n",
    "        self.embedding_out = paddle.nn.Embedding(\n",
    "            self.vocab_size,\n",
    "            self.embedding_size,\n",
    "            weight_attr=paddle.ParamAttr(\n",
    "                name='embedding_out_para',\n",
    "                initializer=paddle.nn.initializer.Uniform(\n",
    "                    low=-0.5 / embedding_size, high=0.5 / embedding_size)))\n",
    "\n",
    "    #定义网络的前向计算逻辑\n",
    "    #center_words是一个tensor（mini-batch），表示中心词\n",
    "    #target_words是一个tensor（mini-batch），表示目标词\n",
    "    #label是一个tensor（mini-batch），表示这个词是正样本还是负样本（用0或1表示）\n",
    "    #用于在训练中计算这个tensor中对应词的同义词，用于观察模型的训练效果\n",
    "    def forward(self, center_words, target_words, label):\n",
    "        #首先，通过embedding_para（self.embedding）参数，将mini-batch中的词转换为词向量\n",
    "        #这里center_words和eval_words_emb查询的是一个相同的参数\n",
    "        #而target_words_emb查询的是另一个参数\n",
    "        center_words_emb = self.embedding(center_words)\n",
    "        target_words_emb = self.embedding_out(target_words)\n",
    "\n",
    "        #center_words_emb = [batch_size, embedding_size]\n",
    "        #target_words_emb = [batch_size, embedding_size]\n",
    "        #我们通过点乘的方式计算中心词到目标词的输出概率，并通过sigmoid函数估计这个词是正样本还是负样本的概率。\n",
    "        word_sim = paddle.multiply(center_words_emb, target_words_emb)\n",
    "        word_sim = paddle.sum(word_sim, axis=-1)\n",
    "        word_sim = paddle.reshape(word_sim, shape=[-1])\n",
    "        pred = paddle.nn.functional.sigmoid(word_sim)\n",
    "\n",
    "        #通过估计的输出概率定义损失函数，注意我们使用的是binary_cross_entropy函数\n",
    "        #将sigmoid计算和cross entropy合并成一步计算可以更好的优化，所以输入的是word_sim，而不是pred\n",
    "\n",
    "        loss = paddle.nn.functional.binary_cross_entropy(paddle.nn.functional.sigmoid(word_sim), label)\n",
    "        loss = paddle.mean(loss)\n",
    "\n",
    "        #返回前向计算的结果，飞桨会通过backward函数自动计算出反向结果。\n",
    "        return pred, loss"
   ],
   "metadata": {
    "collapsed": false
   }
  },
  {
   "cell_type": "markdown",
   "source": [
    "## 网络训练"
   ],
   "metadata": {
    "collapsed": false
   }
  },
  {
   "cell_type": "code",
   "execution_count": null,
   "outputs": [],
   "source": [
    "#开始训练，定义一些训练过程中需要使用的超参数\n",
    "batch_size = 512\n",
    "epoch_num = 3\n",
    "embedding_size = 200\n",
    "step = 0\n",
    "learning_rate = 0.001\n",
    "\n",
    "#定义一个使用word-embedding计算cos的函数\n",
    "def get_cos(query1_token, query2_token, embed):\n",
    "    W = embed\n",
    "    x = W[word2id_dict[query1_token]]\n",
    "    y = W[word2id_dict[query2_token]]\n",
    "    cos = np.dot(x, y) / np.sqrt(np.sum(y * y) * np.sum(x * x) + 1e-9)\n",
    "    flat = cos.flatten()\n",
    "    print(\"单词1 %s 和单词2 %s 的cos结果为 %f\" %(query1_token, query2_token, cos))\n",
    "\n",
    "\n",
    "#通过我们定义的CBOW类，来构造一个cbow模型网络\n",
    "skip_gram_model = CBOW(vocab_size, embedding_size)\n",
    "#构造训练这个网络的优化器\n",
    "adam = paddle.optimizer.Adam(learning_rate=learning_rate, parameters = skip_gram_model.parameters())\n",
    "\n",
    "#使用build_batch函数，以mini-batch为单位，遍历训练数据，并训练网络\n",
    "for center_words, target_words, label in build_batch(\n",
    "    dataset, batch_size, epoch_num):\n",
    "    #使用paddle.to_tensor函数，将一个numpy的tensor，转换为飞桨可计算的tensor\n",
    "    center_words_var = paddle.to_tensor(center_words)\n",
    "    target_words_var = paddle.to_tensor(target_words)\n",
    "    label_var = paddle.to_tensor(label)\n",
    "\n",
    "    #将转换后的tensor送入飞桨中，进行一次前向计算，并得到计算结果\n",
    "    pred, loss = skip_gram_model(\n",
    "        center_words_var, target_words_var, label_var)\n",
    "\n",
    "    #通过backward函数，让程序自动完成反向计算\n",
    "    loss.backward()\n",
    "    #通过minimize函数，让程序根据loss，完成一步对参数的优化更新\n",
    "    adam.minimize(loss)\n",
    "    #使用clear_gradients函数清空模型中的梯度，以便于下一个mini-batch进行更新\n",
    "    skip_gram_model.clear_gradients()\n",
    "\n",
    "    #每经过100个mini-batch，打印一次当前的loss，看看loss是否在稳定下降\n",
    "    step += 1\n",
    "    if step % 100 == 0:\n",
    "        print(\"step %d, loss %.3f\" % (step, loss.numpy()[0]))\n",
    "\n",
    "    #经过10000个mini-batch，打印一次模型对eval_words中的10个词计算的同义词\n",
    "    #这里我们使用词和词之间的向量点积作为衡量相似度的方法\n",
    "    #我们只打印了5个最相似的词\n",
    "    if step % 2000 == 0:\n",
    "        embedding_matrix = skip_gram_model.embedding.weight.numpy()\n",
    "        np.save(\"./embedding\", embedding_matrix)\n",
    "        get_cos(\"king\",\"queen\",embedding_matrix)\n",
    "        get_cos(\"she\",\"her\",embedding_matrix)\n",
    "        get_cos(\"topic\",\"theme\",embedding_matrix)\n",
    "        get_cos(\"woman\",\"game\",embedding_matrix)\n",
    "        get_cos(\"one\",\"name\",embedding_matrix)"
   ],
   "metadata": {
    "collapsed": false
   }
  },
  {
   "cell_type": "code",
   "execution_count": null,
   "outputs": [],
   "source": [
    "#定义一个使用word-embedding计算cos的函数\n",
    "def get_cos(query1_token, query2_token, embed):\n",
    "    W = embed\n",
    "    x = W[word2id_dict[query1_token]]\n",
    "    y = W[word2id_dict[query2_token]]\n",
    "    cos = np.dot(x, y) / np.sqrt(np.sum(y * y) * np.sum(x * x) + 1e-9)\n",
    "    flat = cos.flatten()\n",
    "    print(\"单词1 %s 和单词2 %s 的cos结果为 %f\" %(query1_token, query2_token, cos) )\n",
    "\n",
    "embedding_matrix = np.load('embedding.npy')\n",
    "get_cos(\"king\",\"queen\",embedding_matrix)\n",
    "get_cos(\"she\",\"her\",embedding_matrix)\n",
    "get_cos(\"topic\",\"theme\",embedding_matrix)\n",
    "get_cos(\"woman\",\"game\",embedding_matrix)\n",
    "get_cos(\"one\",\"name\",embedding_matrix)"
   ],
   "metadata": {
    "collapsed": false
   }
  }
 ],
 "metadata": {
  "kernelspec": {
   "display_name": "Python 3",
   "language": "python",
   "name": "python3"
  },
  "language_info": {
   "codemirror_mode": {
    "name": "ipython",
    "version": 2
   },
   "file_extension": ".py",
   "mimetype": "text/x-python",
   "name": "python",
   "nbconvert_exporter": "python",
   "pygments_lexer": "ipython2",
   "version": "2.7.6"
  }
 },
 "nbformat": 4,
 "nbformat_minor": 0
}
