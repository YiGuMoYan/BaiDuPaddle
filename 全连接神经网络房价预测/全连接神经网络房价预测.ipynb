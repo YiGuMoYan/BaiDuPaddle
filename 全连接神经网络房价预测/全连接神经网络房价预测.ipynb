{
 "cells": [
  {
   "cell_type": "markdown",
   "source": [
    "# 全连接神经网络房价预测"
   ],
   "metadata": {
    "collapsed": false
   }
  },
  {
   "cell_type": "code",
   "execution_count": 1,
   "outputs": [],
   "source": [
    "import paddle\n",
    "import numpy as np\n",
    "import os\n",
    "import matplotlib.pyplot as plt"
   ],
   "metadata": {
    "collapsed": false,
    "ExecuteTime": {
     "end_time": "2023-07-17T03:10:12.615818100Z",
     "start_time": "2023-07-17T03:10:11.285093Z"
    }
   }
  },
  {
   "cell_type": "code",
   "execution_count": 19,
   "outputs": [],
   "source": [
    "Batch = 0\n",
    "Batchs = []\n",
    "all_train_accs = []\n",
    "\n",
    "\n",
    "def draw_train_acc(Batchs, train_accs):\n",
    "    title = 'training accs'\n",
    "    plt.title(title, fontsize=24)\n",
    "    plt.xlabel('batch', fontsize=14)\n",
    "    plt.ylabel('acc', fontsize=14)\n",
    "    plt.plot(Batchs, train_accs, color='green', label='training accs')\n",
    "    plt.legend()\n",
    "    plt.grid()\n",
    "    plt.show()\n",
    "\n",
    "\n",
    "all_train_loss = []\n",
    "\n",
    "\n",
    "def draw_train_loss(Batchs, train_loss):\n",
    "    title = 'training loss'\n",
    "    plt.title(title, fontsize=24)\n",
    "    plt.xlabel('batch', fontsize=14)\n",
    "    plt.ylabel('loss', fontsize=14)\n",
    "    plt.plot(Batchs, train_loss, color='red', label='training loss')\n",
    "    plt.legend()\n",
    "    plt.grid()\n",
    "    plt.show()"
   ],
   "metadata": {
    "collapsed": false,
    "ExecuteTime": {
     "end_time": "2023-07-17T03:16:39.067839300Z",
     "start_time": "2023-07-17T03:16:39.060796100Z"
    }
   }
  },
  {
   "cell_type": "code",
   "execution_count": 3,
   "outputs": [],
   "source": [
    "# 绘制真实值和预测值对比图\n",
    "def draw_infer_result(ground_truths, infer_results):\n",
    "    title = 'Boston'\n",
    "    plt.title(title, fontsize=24)\n",
    "    x = np.arange(1, 20)\n",
    "    y = x\n",
    "    plt.plot(x, y)\n",
    "    plt.xlabel('ground truth', fontsize=14)\n",
    "    plt.ylabel('infer result', fontsize=14)\n",
    "    plt.scatter(ground_truths, infer_results, color='green', label='training cost')\n",
    "    plt.grid()\n",
    "    plt.show()"
   ],
   "metadata": {
    "collapsed": false,
    "ExecuteTime": {
     "end_time": "2023-07-17T03:10:17.087912200Z",
     "start_time": "2023-07-17T03:10:17.075911300Z"
    }
   }
  },
  {
   "cell_type": "markdown",
   "source": [
    "# 1.加载数据集"
   ],
   "metadata": {
    "collapsed": false
   }
  },
  {
   "cell_type": "code",
   "execution_count": 4,
   "outputs": [
    {
     "name": "stdout",
     "output_type": "stream",
     "text": [
      "Tensor(shape=[13], dtype=float32, place=Place(gpu:0), stop_gradient=True,\n",
      "       [-0.04054410,  0.06636363, -0.32356226, -0.06916996, -0.03435197,\n",
      "         0.05563625, -0.03475696,  0.02682186, -0.37171334, -0.21419305,\n",
      "        -0.33569506,  0.10143217, -0.21172912]) Tensor(shape=[1], dtype=float32, place=Place(gpu:0), stop_gradient=True,\n",
      "       [24.])\n",
      "Tensor(shape=[13], dtype=float32, place=Place(gpu:0), stop_gradient=True,\n",
      "       [-0.04030818, -0.11363637, -0.14907546, -0.06916996, -0.17632729,\n",
      "         0.02612869,  0.10633469,  0.10658070, -0.32823509, -0.31724647,\n",
      "        -0.06973761,  0.10143217, -0.09693883]) Tensor(shape=[1], dtype=float32, place=Place(gpu:0), stop_gradient=True,\n",
      "       [21.60000038])\n",
      "Tensor(shape=[13], dtype=float32, place=Place(gpu:0), stop_gradient=True,\n",
      "       [-0.04030840, -0.11363637, -0.14907546, -0.06916996, -0.17632729,\n",
      "         0.17251688, -0.07698148,  0.10658070, -0.32823509, -0.31724647,\n",
      "        -0.06973761,  0.09116942, -0.23794325]) Tensor(shape=[1], dtype=float32, place=Place(gpu:0), stop_gradient=True,\n",
      "       [34.70000076])\n",
      "Tensor(shape=[13], dtype=float32, place=Place(gpu:0), stop_gradient=True,\n",
      "       [-0.04025130, -0.11363637, -0.32832766, -0.06916996, -0.19896103,\n",
      "         0.13668627, -0.23455100,  0.20616332, -0.28475684, -0.35541442,\n",
      "         0.02600706,  0.09570823, -0.26802051]) Tensor(shape=[1], dtype=float32, place=Place(gpu:0), stop_gradient=True,\n",
      "       [33.40000153])\n",
      "Tensor(shape=[13], dtype=float32, place=Place(gpu:0), stop_gradient=True,\n",
      "       [-0.03983903, -0.11363637, -0.32832766, -0.06916996, -0.19896103,\n",
      "         0.16523579, -0.14804223,  0.20616332, -0.28475684, -0.35541442,\n",
      "         0.02600706,  0.10143217, -0.20207128]) Tensor(shape=[1], dtype=float32, place=Place(gpu:0), stop_gradient=True,\n",
      "       [36.20000076])\n",
      "Tensor(shape=[13], dtype=float32, place=Place(gpu:0), stop_gradient=True,\n",
      "       [-0.04027963, -0.11363637, -0.32832766, -0.06916996, -0.19896103,\n",
      "         0.02785315, -0.10169826,  0.20616332, -0.28475684, -0.35541442,\n",
      "         0.02600706,  0.09442223, -0.20538254]) Tensor(shape=[1], dtype=float32, place=Place(gpu:0), stop_gradient=True,\n",
      "       [28.70000076])\n",
      "Tensor(shape=[13], dtype=float32, place=Place(gpu:0), stop_gradient=True,\n",
      "       [-0.03962278,  0.01136364, -0.11974995, -0.06916996, -0.06315856,\n",
      "        -0.05223882, -0.02033884,  0.16054136, -0.19780031, -0.18556708,\n",
      "        -0.34633335,  0.09815414, -0.00615517]) Tensor(shape=[1], dtype=float32, place=Place(gpu:0), stop_gradient=True,\n",
      "       [22.89999962])\n",
      "Tensor(shape=[13], dtype=float32, place=Place(gpu:0), stop_gradient=True,\n",
      "       [-0.03899043,  0.01136364, -0.11974995, -0.06916996, -0.06315856,\n",
      "        -0.02158160,  0.28347167,  0.19600590, -0.19780031, -0.18556708,\n",
      "        -0.34633335,  0.10143217,  0.17927530]) Tensor(shape=[1], dtype=float32, place=Place(gpu:0), stop_gradient=True,\n",
      "       [27.10000038])\n",
      "Tensor(shape=[13], dtype=float32, place=Place(gpu:0), stop_gradient=True,\n",
      "       [-0.03824085,  0.01136364, -0.11974995, -0.06916996, -0.06315856,\n",
      "        -0.12524131,  0.32363644,  0.20797291, -0.19780031, -0.18556708,\n",
      "        -0.34633335,  0.07553575,  0.47673666]) Tensor(shape=[1], dtype=float32, place=Place(gpu:0), stop_gradient=True,\n",
      "       [16.50000000])\n",
      "Tensor(shape=[13], dtype=float32, place=Place(gpu:0), stop_gradient=True,\n",
      "       [-0.03870393,  0.01136364, -0.11974995, -0.06916996, -0.06315856,\n",
      "        -0.05377168,  0.17842533,  0.25434962, -0.19780031, -0.18556708,\n",
      "        -0.34633335,  0.07573748,  0.12270797]) Tensor(shape=[1], dtype=float32, place=Place(gpu:0), stop_gradient=True,\n",
      "       [18.89999962])\n"
     ]
    }
   ],
   "source": [
    "uci_housing = paddle.text.datasets.UCIHousing(mode='train')\n",
    "for i in range(10):\n",
    "    feature, target = uci_housing[i]\n",
    "    feature = paddle.to_tensor(feature)\n",
    "    target = paddle.to_tensor(target)\n",
    "    print(feature, target)"
   ],
   "metadata": {
    "collapsed": false,
    "ExecuteTime": {
     "end_time": "2023-07-17T03:10:19.384320300Z",
     "start_time": "2023-07-17T03:10:18.434321100Z"
    }
   }
  },
  {
   "cell_type": "code",
   "execution_count": 5,
   "outputs": [],
   "source": [
    "# 加在训练集 验证集\n",
    "train_dataset = paddle.text.datasets.UCIHousing(mode='train')\n",
    "eval_dataset = paddle.text.datasets.UCIHousing(mode='test')\n",
    "\n",
    "train_loader = paddle.io.DataLoader(train_dataset, batch_size=32, shuffle=True)\n",
    "eval_loader = paddle.io.DataLoader(eval_dataset, batch_size=8, shuffle=True)"
   ],
   "metadata": {
    "collapsed": false,
    "ExecuteTime": {
     "end_time": "2023-07-17T03:10:19.401319700Z",
     "start_time": "2023-07-17T03:10:19.382320400Z"
    }
   }
  },
  {
   "cell_type": "markdown",
   "source": [
    "# 2.网络搭建"
   ],
   "metadata": {
    "collapsed": false
   }
  },
  {
   "cell_type": "code",
   "execution_count": 6,
   "outputs": [],
   "source": [
    "class MyDNN(paddle.nn.Layer):\n",
    "    def __init__(self):\n",
    "        super(MyDNN, self).__init__()\n",
    "        # 定义一层全连接层，输出维度是1，激活函数为None，即不使用激活函数\n",
    "        self.linear = paddle.nn.Linear(13, 1, None)\n",
    "\n",
    "    # 网络的前向计算函数\n",
    "    def forward(self, inputs):\n",
    "        x = self.linear(inputs)\n",
    "        return x"
   ],
   "metadata": {
    "collapsed": false,
    "ExecuteTime": {
     "end_time": "2023-07-17T03:10:20.597867300Z",
     "start_time": "2023-07-17T03:10:20.584866Z"
    }
   }
  },
  {
   "cell_type": "markdown",
   "source": [
    "# 3.网络训练 测试"
   ],
   "metadata": {
    "collapsed": false
   }
  },
  {
   "cell_type": "code",
   "execution_count": 20,
   "outputs": [
    {
     "name": "stdout",
     "output_type": "stream",
     "text": [
      "epoch:0, step:10, train_loss:751.6680297851562\n",
      "epoch:1, step:10, train_loss:705.623779296875\n",
      "epoch:2, step:10, train_loss:815.0472412109375\n",
      "epoch:3, step:10, train_loss:627.60546875\n",
      "epoch:4, step:10, train_loss:605.782470703125\n",
      "epoch:5, step:10, train_loss:667.4259033203125\n",
      "epoch:6, step:10, train_loss:660.5113525390625\n",
      "epoch:7, step:10, train_loss:723.3909301757812\n",
      "epoch:8, step:10, train_loss:478.887451171875\n",
      "epoch:9, step:10, train_loss:645.9984130859375\n",
      "epoch:10, step:10, train_loss:452.9259948730469\n",
      "epoch:11, step:10, train_loss:456.0542297363281\n",
      "epoch:12, step:10, train_loss:311.23138427734375\n",
      "epoch:13, step:10, train_loss:432.3153991699219\n",
      "epoch:14, step:10, train_loss:357.20184326171875\n",
      "epoch:15, step:10, train_loss:428.505615234375\n",
      "epoch:16, step:10, train_loss:363.4014892578125\n",
      "epoch:17, step:10, train_loss:587.9222412109375\n",
      "epoch:18, step:10, train_loss:369.06317138671875\n",
      "epoch:19, step:10, train_loss:309.20068359375\n",
      "epoch:20, step:10, train_loss:364.5614013671875\n",
      "epoch:21, step:10, train_loss:341.6869201660156\n",
      "epoch:22, step:10, train_loss:264.87335205078125\n",
      "epoch:23, step:10, train_loss:390.60711669921875\n",
      "epoch:24, step:10, train_loss:536.4229736328125\n",
      "epoch:25, step:10, train_loss:369.0825500488281\n",
      "epoch:26, step:10, train_loss:324.7039489746094\n",
      "epoch:27, step:10, train_loss:292.8087158203125\n",
      "epoch:28, step:10, train_loss:363.30560302734375\n",
      "epoch:29, step:10, train_loss:274.1200256347656\n",
      "epoch:30, step:10, train_loss:412.34576416015625\n",
      "epoch:31, step:10, train_loss:328.0269775390625\n",
      "epoch:32, step:10, train_loss:317.34185791015625\n",
      "epoch:33, step:10, train_loss:491.0187072753906\n",
      "epoch:34, step:10, train_loss:298.35589599609375\n",
      "epoch:35, step:10, train_loss:274.0322265625\n",
      "epoch:36, step:10, train_loss:243.33282470703125\n",
      "epoch:37, step:10, train_loss:335.30303955078125\n",
      "epoch:38, step:10, train_loss:292.194091796875\n",
      "epoch:39, step:10, train_loss:218.27392578125\n",
      "epoch:40, step:10, train_loss:372.63983154296875\n",
      "epoch:41, step:10, train_loss:285.027587890625\n",
      "epoch:42, step:10, train_loss:215.77806091308594\n",
      "epoch:43, step:10, train_loss:198.8303680419922\n",
      "epoch:44, step:10, train_loss:342.6095275878906\n",
      "epoch:45, step:10, train_loss:235.9078369140625\n",
      "epoch:46, step:10, train_loss:165.0687255859375\n",
      "epoch:47, step:10, train_loss:207.4482879638672\n",
      "epoch:48, step:10, train_loss:183.30667114257812\n",
      "epoch:49, step:10, train_loss:207.56674194335938\n",
      "epoch:50, step:10, train_loss:219.15476989746094\n",
      "epoch:51, step:10, train_loss:190.1180877685547\n",
      "epoch:52, step:10, train_loss:238.88473510742188\n",
      "epoch:53, step:10, train_loss:207.41708374023438\n",
      "epoch:54, step:10, train_loss:184.51956176757812\n",
      "epoch:55, step:10, train_loss:159.47247314453125\n",
      "epoch:56, step:10, train_loss:131.07406616210938\n",
      "epoch:57, step:10, train_loss:88.2581787109375\n",
      "epoch:58, step:10, train_loss:252.29164123535156\n",
      "epoch:59, step:10, train_loss:153.76991271972656\n",
      "epoch:60, step:10, train_loss:198.29595947265625\n",
      "epoch:61, step:10, train_loss:150.6958770751953\n",
      "epoch:62, step:10, train_loss:72.49661254882812\n",
      "epoch:63, step:10, train_loss:179.6851348876953\n",
      "epoch:64, step:10, train_loss:197.7645721435547\n",
      "epoch:65, step:10, train_loss:278.9346008300781\n",
      "epoch:66, step:10, train_loss:203.34329223632812\n",
      "epoch:67, step:10, train_loss:152.8160858154297\n",
      "epoch:68, step:10, train_loss:276.11077880859375\n",
      "epoch:69, step:10, train_loss:148.51870727539062\n",
      "epoch:70, step:10, train_loss:197.31280517578125\n",
      "epoch:71, step:10, train_loss:112.57308197021484\n",
      "epoch:72, step:10, train_loss:196.5465545654297\n",
      "epoch:73, step:10, train_loss:102.62516784667969\n",
      "epoch:74, step:10, train_loss:127.29313659667969\n",
      "epoch:75, step:10, train_loss:241.80596923828125\n",
      "epoch:76, step:10, train_loss:151.86016845703125\n",
      "epoch:77, step:10, train_loss:125.71697235107422\n",
      "epoch:78, step:10, train_loss:168.89996337890625\n",
      "epoch:79, step:10, train_loss:86.90568542480469\n",
      "epoch:80, step:10, train_loss:98.65229797363281\n",
      "epoch:81, step:10, train_loss:224.7509765625\n",
      "epoch:82, step:10, train_loss:177.8785400390625\n",
      "epoch:83, step:10, train_loss:65.2378921508789\n",
      "epoch:84, step:10, train_loss:141.08212280273438\n",
      "epoch:85, step:10, train_loss:97.41751098632812\n",
      "epoch:86, step:10, train_loss:208.64707946777344\n",
      "epoch:87, step:10, train_loss:127.52786254882812\n",
      "epoch:88, step:10, train_loss:102.41889953613281\n",
      "epoch:89, step:10, train_loss:74.57247924804688\n",
      "epoch:90, step:10, train_loss:236.31353759765625\n",
      "epoch:91, step:10, train_loss:173.17617797851562\n",
      "epoch:92, step:10, train_loss:114.45140075683594\n",
      "epoch:93, step:10, train_loss:66.09073638916016\n",
      "epoch:94, step:10, train_loss:73.94358825683594\n",
      "epoch:95, step:10, train_loss:79.9207534790039\n",
      "epoch:96, step:10, train_loss:181.80764770507812\n",
      "epoch:97, step:10, train_loss:72.04206848144531\n",
      "epoch:98, step:10, train_loss:124.2669677734375\n",
      "epoch:99, step:10, train_loss:133.29129028320312\n",
      "epoch:100, step:10, train_loss:153.6224822998047\n",
      "epoch:101, step:10, train_loss:55.116554260253906\n",
      "epoch:102, step:10, train_loss:132.70574951171875\n",
      "epoch:103, step:10, train_loss:82.8305892944336\n",
      "epoch:104, step:10, train_loss:217.60458374023438\n",
      "epoch:105, step:10, train_loss:119.58405303955078\n",
      "epoch:106, step:10, train_loss:88.82588958740234\n",
      "epoch:107, step:10, train_loss:56.6125602722168\n",
      "epoch:108, step:10, train_loss:133.10665893554688\n",
      "epoch:109, step:10, train_loss:49.23992156982422\n",
      "epoch:110, step:10, train_loss:150.42510986328125\n",
      "epoch:111, step:10, train_loss:67.917724609375\n",
      "epoch:112, step:10, train_loss:88.72067260742188\n",
      "epoch:113, step:10, train_loss:108.21214294433594\n",
      "epoch:114, step:10, train_loss:56.64319610595703\n",
      "epoch:115, step:10, train_loss:59.59642791748047\n",
      "epoch:116, step:10, train_loss:45.87819290161133\n",
      "epoch:117, step:10, train_loss:65.86857604980469\n",
      "epoch:118, step:10, train_loss:139.649169921875\n",
      "epoch:119, step:10, train_loss:86.99461364746094\n",
      "epoch:120, step:10, train_loss:53.0640869140625\n",
      "epoch:121, step:10, train_loss:183.59011840820312\n",
      "epoch:122, step:10, train_loss:90.12528991699219\n",
      "epoch:123, step:10, train_loss:146.76254272460938\n",
      "epoch:124, step:10, train_loss:124.15670776367188\n",
      "epoch:125, step:10, train_loss:51.39556121826172\n",
      "epoch:126, step:10, train_loss:83.86248779296875\n",
      "epoch:127, step:10, train_loss:63.37242889404297\n",
      "epoch:128, step:10, train_loss:90.61375427246094\n",
      "epoch:129, step:10, train_loss:50.85770797729492\n",
      "epoch:130, step:10, train_loss:131.3437042236328\n",
      "epoch:131, step:10, train_loss:76.197509765625\n",
      "epoch:132, step:10, train_loss:65.82814025878906\n",
      "epoch:133, step:10, train_loss:60.35172653198242\n",
      "epoch:134, step:10, train_loss:89.6285171508789\n",
      "epoch:135, step:10, train_loss:61.81737518310547\n",
      "epoch:136, step:10, train_loss:55.05306625366211\n",
      "epoch:137, step:10, train_loss:99.76986694335938\n",
      "epoch:138, step:10, train_loss:86.36735534667969\n",
      "epoch:139, step:10, train_loss:91.82234954833984\n",
      "epoch:140, step:10, train_loss:17.992992401123047\n",
      "epoch:141, step:10, train_loss:34.58348083496094\n",
      "epoch:142, step:10, train_loss:92.92115783691406\n",
      "epoch:143, step:10, train_loss:64.57128143310547\n",
      "epoch:144, step:10, train_loss:67.36155700683594\n",
      "epoch:145, step:10, train_loss:123.35408020019531\n",
      "epoch:146, step:10, train_loss:32.43370056152344\n",
      "epoch:147, step:10, train_loss:91.52879333496094\n",
      "epoch:148, step:10, train_loss:98.95880126953125\n",
      "epoch:149, step:10, train_loss:76.0538330078125\n",
      "epoch:150, step:10, train_loss:95.73240661621094\n",
      "epoch:151, step:10, train_loss:83.92875671386719\n",
      "epoch:152, step:10, train_loss:79.39161682128906\n",
      "epoch:153, step:10, train_loss:84.42655944824219\n",
      "epoch:154, step:10, train_loss:23.50661849975586\n",
      "epoch:155, step:10, train_loss:99.28286743164062\n",
      "epoch:156, step:10, train_loss:110.92948913574219\n",
      "epoch:157, step:10, train_loss:27.739038467407227\n",
      "epoch:158, step:10, train_loss:93.92293548583984\n",
      "epoch:159, step:10, train_loss:66.2193603515625\n",
      "epoch:160, step:10, train_loss:63.12522888183594\n",
      "epoch:161, step:10, train_loss:60.623226165771484\n",
      "epoch:162, step:10, train_loss:124.75430297851562\n",
      "epoch:163, step:10, train_loss:55.685516357421875\n",
      "epoch:164, step:10, train_loss:54.547237396240234\n",
      "epoch:165, step:10, train_loss:38.68230056762695\n",
      "epoch:166, step:10, train_loss:53.03385925292969\n",
      "epoch:167, step:10, train_loss:62.87517547607422\n",
      "epoch:168, step:10, train_loss:96.24485778808594\n",
      "epoch:169, step:10, train_loss:61.03588104248047\n",
      "epoch:170, step:10, train_loss:57.04020690917969\n",
      "epoch:171, step:10, train_loss:36.55613708496094\n",
      "epoch:172, step:10, train_loss:81.49042510986328\n",
      "epoch:173, step:10, train_loss:66.6117172241211\n",
      "epoch:174, step:10, train_loss:63.797706604003906\n",
      "epoch:175, step:10, train_loss:26.797069549560547\n",
      "epoch:176, step:10, train_loss:66.59181213378906\n",
      "epoch:177, step:10, train_loss:35.91426086425781\n",
      "epoch:178, step:10, train_loss:42.50169372558594\n",
      "epoch:179, step:10, train_loss:39.83209991455078\n",
      "epoch:180, step:10, train_loss:97.2186279296875\n",
      "epoch:181, step:10, train_loss:43.85614013671875\n",
      "epoch:182, step:10, train_loss:33.75014114379883\n",
      "epoch:183, step:10, train_loss:108.61746215820312\n",
      "epoch:184, step:10, train_loss:60.37188720703125\n",
      "epoch:185, step:10, train_loss:87.11114501953125\n",
      "epoch:186, step:10, train_loss:42.723609924316406\n",
      "epoch:187, step:10, train_loss:43.37256622314453\n",
      "epoch:188, step:10, train_loss:80.86087036132812\n",
      "epoch:189, step:10, train_loss:22.702392578125\n",
      "epoch:190, step:10, train_loss:40.66461181640625\n",
      "epoch:191, step:10, train_loss:67.78510284423828\n",
      "epoch:192, step:10, train_loss:26.382343292236328\n",
      "epoch:193, step:10, train_loss:76.78543853759766\n",
      "epoch:194, step:10, train_loss:20.733747482299805\n",
      "epoch:195, step:10, train_loss:27.73147201538086\n",
      "epoch:196, step:10, train_loss:67.03604125976562\n",
      "epoch:197, step:10, train_loss:77.24958801269531\n",
      "epoch:198, step:10, train_loss:28.17838478088379\n",
      "epoch:199, step:10, train_loss:65.71256256103516\n"
     ]
    },
    {
     "data": {
      "text/plain": "<Figure size 640x480 with 1 Axes>",
      "image/png": "[encoded data removed]"
     },
     "metadata": {},
     "output_type": "display_data"
    }
   ],
   "source": [
    "model = MyDNN()\n",
    "# 声明 model 用于训练\n",
    "model.train()\n",
    "\n",
    "# 定义损失 均方误差\n",
    "mse_loss = paddle.nn.MSELoss()\n",
    "\n",
    "# 优化器 SGD随机梯度下降\n",
    "# learning_rate：学习率\n",
    "# parameters：优化参数\n",
    "opt = paddle.optimizer.SGD(learning_rate=0.0005, parameters=model.parameters())\n",
    "\n",
    "# 训练轮数\n",
    "epochs_num = 200\n",
    "\n",
    "for epochs in range(epochs_num):\n",
    "    for batch_id, data in enumerate(train_loader()):\n",
    "        feature = data[0]\n",
    "        label = data[1]\n",
    "        predict = model(feature)\n",
    "        loss = mse_loss(predict, label)\n",
    "        if batch_id != 0 and batch_id % 10 == 0:\n",
    "            Batch += 10\n",
    "            Batchs.append(Batch)\n",
    "            all_train_loss.append(loss.numpy()[0])\n",
    "            print('epoch:{}, step:{}, train_loss:{}'.format(epochs, batch_id, loss.numpy()[0]))\n",
    "        loss.backward()\n",
    "        opt.step()\n",
    "        opt.clear_grad()\n",
    "paddle.save(model.state_dict(), \"mydnn\")\n",
    "draw_train_loss(Batchs, all_train_loss)"
   ],
   "metadata": {
    "collapsed": false,
    "ExecuteTime": {
     "end_time": "2023-07-17T03:16:47.409476Z",
     "start_time": "2023-07-17T03:16:45.259418300Z"
    }
   }
  },
  {
   "cell_type": "code",
   "execution_count": 25,
   "outputs": [
    {
     "name": "stdout",
     "output_type": "stream",
     "text": [
      "17.568035\n"
     ]
    }
   ],
   "source": [
    "para_state_dict = paddle.load('mydnn')\n",
    "model = MyDNN()\n",
    "model.set_state_dict(para_state_dict)\n",
    "model.eval()\n",
    "losses = []\n",
    "for batch_id, data in enumerate(eval_loader()):\n",
    "    feature = data[0]\n",
    "    label = data[1]\n",
    "    predict = model(feature)\n",
    "    loss = mse_loss(predict, label)\n",
    "    losses.append(loss.numpy()[0])\n",
    "\n",
    "avg_loss = np.mean(losses)\n",
    "print(avg_loss)"
   ],
   "metadata": {
    "collapsed": false,
    "ExecuteTime": {
     "end_time": "2023-07-17T03:24:11.590550400Z",
     "start_time": "2023-07-17T03:24:11.563475300Z"
    }
   }
  },
  {
   "cell_type": "code",
   "execution_count": null,
   "outputs": [],
   "source": [],
   "metadata": {
    "collapsed": false
   }
  }
 ],
 "metadata": {
  "kernelspec": {
   "display_name": "Python 3",
   "language": "python",
   "name": "python3"
  },
  "language_info": {
   "codemirror_mode": {
    "name": "ipython",
    "version": 2
   },
   "file_extension": ".py",
   "mimetype": "text/x-python",
   "name": "python",
   "nbconvert_exporter": "python",
   "pygments_lexer": "ipython2",
   "version": "2.7.6"
  }
 },
 "nbformat": 4,
 "nbformat_minor": 0
}
